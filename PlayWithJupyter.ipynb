{
  "nbformat": 4,
  "nbformat_minor": 0,
  "metadata": {
    "colab": {
      "name": "PlayWithJupyter.ipynb",
      "provenance": [],
      "collapsed_sections": [],
      "toc_visible": true,
      "authorship_tag": "ABX9TyPnr+YWwOXu4WQ/RAgVx7Fz",
      "include_colab_link": true
    },
    "kernelspec": {
      "name": "python3",
      "display_name": "Python 3"
    }
  },
  "cells": [
    {
      "cell_type": "markdown",
      "metadata": {
        "id": "view-in-github",
        "colab_type": "text"
      },
      "source": [
        "<a href=\"https://colab.research.google.com/github/heyl-steve/ML_with_Python/blob/main/PlayWithJupyter.ipynb\" target=\"_parent\"><img src=\"https://colab.research.google.com/assets/colab-badge.svg\" alt=\"Open In Colab\"/></a>"
      ]
    },
    {
      "cell_type": "markdown",
      "metadata": {
        "id": "LqDBTNf9obkT"
      },
      "source": [
        "#Explore"
      ]
    },
    {
      "cell_type": "code",
      "metadata": {
        "id": "wWRZJSeEmcoS",
        "colab": {
          "base_uri": "https://localhost:8080/",
          "height": 34
        },
        "outputId": "23eb232f-dc33-42c8-ed27-9f7b5b86c9b3"
      },
      "source": [
        "import datetime\n",
        "\n",
        "print( datetime.date.today())"
      ],
      "execution_count": null,
      "outputs": [
        {
          "output_type": "stream",
          "text": [
            "2020-10-20\n"
          ],
          "name": "stdout"
        }
      ]
    },
    {
      "cell_type": "markdown",
      "metadata": {
        "id": "UBcOzuq7oICX"
      },
      "source": [
        "How do I make a raw cell?"
      ]
    },
    {
      "cell_type": "markdown",
      "metadata": {
        "id": "oS_140XVmejG"
      },
      "source": [
        "Is this a *markdown* cell?\n"
      ]
    },
    {
      "cell_type": "markdown",
      "metadata": {
        "id": "HwTjCYdlokz_"
      },
      "source": [
        "# Some other section"
      ]
    },
    {
      "cell_type": "markdown",
      "metadata": {
        "id": "CQS8msphorDj"
      },
      "source": [
        "This is in the other section"
      ]
    },
    {
      "cell_type": "markdown",
      "metadata": {
        "id": "yfS1jJI3o8s7"
      },
      "source": [
        "`This is monospaced text  \n",
        "  this is monospaced also`  \n",
        " This is monospaced (not)  \n",
        " list\n",
        " >list2 \n",
        ">>list 3\n",
        "\n",
        "1 order\n",
        ">1.1 something  \n",
        "something else  \n",
        "<back to top\n",
        "\n",
        "\n",
        "\n"
      ]
    },
    {
      "cell_type": "markdown",
      "metadata": {
        "id": "bZu_glU7u22L"
      },
      "source": [
        "From Class 2020-11-19\n"
      ]
    },
    {
      "cell_type": "code",
      "metadata": {
        "colab": {
          "base_uri": "https://localhost:8080/"
        },
        "id": "dKXsIJXRu8Ov",
        "outputId": "446d8436-97d3-442c-ae40-fe4c11000e24"
      },
      "source": [
        "import pandas as pd\n",
        "df=pd.DataFrame({'Country':['US', 'France', 'Spain'], 'Capital':['Washington','Paris','Madrid']})\n",
        "print (df)\n"
      ],
      "execution_count": 2,
      "outputs": [
        {
          "output_type": "stream",
          "text": [
            "  Country     Capital\n",
            "0      US  Washington\n",
            "1  France       Paris\n",
            "2   Spain      Madrid\n"
          ],
          "name": "stdout"
        }
      ]
    },
    {
      "cell_type": "code",
      "metadata": {
        "id": "QxBBpaswwcQ4",
        "colab": {
          "base_uri": "https://localhost:8080/"
        },
        "outputId": "6629aa2f-73e7-4379-b17a-578cfe6e18d6"
      },
      "source": [
        "print(df['Capital'])"
      ],
      "execution_count": 4,
      "outputs": [
        {
          "output_type": "stream",
          "text": [
            "0    Washington\n",
            "1         Paris\n",
            "2        Madrid\n",
            "Name: Capital, dtype: object\n"
          ],
          "name": "stdout"
        }
      ]
    },
    {
      "cell_type": "markdown",
      "metadata": {
        "id": "yFI4IxTWbabT"
      },
      "source": [
        "work in colab"
      ]
    },
    {
      "cell_type": "code",
      "metadata": {
        "colab": {
          "base_uri": "https://localhost:8080/"
        },
        "id": "G0dBabKibYfB",
        "outputId": "9a5e5db4-0a94-44ae-af93-fbf4dcf61158"
      },
      "source": [
        "df.shape"
      ],
      "execution_count": 5,
      "outputs": [
        {
          "output_type": "execute_result",
          "data": {
            "text/plain": [
              "(3, 2)"
            ]
          },
          "metadata": {
            "tags": []
          },
          "execution_count": 5
        }
      ]
    }
  ]
}